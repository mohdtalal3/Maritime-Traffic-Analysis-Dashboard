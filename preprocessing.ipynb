{
 "cells": [
  {
   "cell_type": "code",
   "execution_count": 20,
   "metadata": {},
   "outputs": [],
   "source": [
    "import pandas as pd\n",
    "\n",
    "# Load the CSV file\n",
    "df = pd.read_csv('aisdk-2024-04-02.csv')\n",
    "\n",
    "df = df[~df['Ship type'].isnull() & (df['Ship type'] != 'Undefined')]\n",
    "df = df[~df['Navigational status'].isnull() & (df['Navigational status'] != 'Unknown value')]\n",
    "df['# Timestamp'] = pd.to_datetime(df['# Timestamp'])\n",
    "df = df.sort_values(by=['MMSI', '# Timestamp'], ascending=[True, False])\n",
    "df = df.drop_duplicates(subset='MMSI', keep='first')\n",
    "df = df[[\"MMSI\", \"Navigational status\", \"Ship type\"]]\n",
    "df.to_csv(\"newship.csv\")"
   ]
  },
  {
   "cell_type": "code",
   "execution_count": 21,
   "metadata": {},
   "outputs": [],
   "source": [
    "import pandas as pd\n",
    "new_ship_df = pd.read_csv('newship.csv')  \n",
    "second_df = pd.read_csv('aisdk-2024-04-02.csv')    \n",
    "\n",
    "merged_df = pd.merge(new_ship_df, second_df[['MMSI', '# Timestamp', 'Latitude',\"Longitude\"]], on='MMSI', how='left')\n",
    "\n",
    "new_df=merged_df[['MMSI', '# Timestamp', 'Latitude',\"Longitude\"]]\n",
    "new_df.to_csv('merged_data.csv', index=False)\n"
   ]
  },
  {
   "cell_type": "code",
   "execution_count": 22,
   "metadata": {},
   "outputs": [],
   "source": []
  },
  {
   "cell_type": "code",
   "execution_count": 24,
   "metadata": {},
   "outputs": [],
   "source": []
  },
  {
   "cell_type": "code",
   "execution_count": 26,
   "metadata": {},
   "outputs": [],
   "source": []
  },
  {
   "cell_type": "code",
   "execution_count": 29,
   "metadata": {},
   "outputs": [],
   "source": []
  },
  {
   "cell_type": "code",
   "execution_count": 31,
   "metadata": {},
   "outputs": [],
   "source": []
  }
 ],
 "metadata": {
  "kernelspec": {
   "display_name": "Python 3",
   "language": "python",
   "name": "python3"
  },
  "language_info": {
   "codemirror_mode": {
    "name": "ipython",
    "version": 3
   },
   "file_extension": ".py",
   "mimetype": "text/x-python",
   "name": "python",
   "nbconvert_exporter": "python",
   "pygments_lexer": "ipython3",
   "version": "3.12.4"
  }
 },
 "nbformat": 4,
 "nbformat_minor": 2
}
